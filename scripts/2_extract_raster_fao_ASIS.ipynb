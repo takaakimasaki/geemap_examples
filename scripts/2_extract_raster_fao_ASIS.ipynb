{
 "cells": [
  {
   "cell_type": "markdown",
   "id": "915465c1",
   "metadata": {},
   "source": [
    "<a href=\"https://githubtocolab.com/gee-community/geemap/blob/master/examples/notebooks/12_zonal_statistics.ipynb\" target=\"_parent\"><img src=\"https://colab.research.google.com/assets/colab-badge.svg\" alt=\"Open in Colab\"/></a>\n",
    "\n",
    "Uncomment the following line to install [geemap](https://geemap.org) if needed."
   ]
  },
  {
   "cell_type": "code",
   "execution_count": 1,
   "id": "57df6109",
   "metadata": {},
   "outputs": [],
   "source": [
    "# !pip install geemap"
   ]
  },
  {
   "cell_type": "markdown",
   "id": "16a8bed0",
   "metadata": {},
   "source": [
    "Load libraries"
   ]
  },
  {
   "cell_type": "code",
   "execution_count": 10,
   "id": "dc8e26f5",
   "metadata": {
    "scrolled": true
   },
   "outputs": [
    {
     "data": {
      "text/html": [
       "<p>To authorize access needed by Earth Engine, open the following\n",
       "        URL in a web browser and follow the instructions:</p>\n",
       "        <p><a href=https://code.earthengine.google.com/client-auth?scopes=https%3A//www.googleapis.com/auth/earthengine%20https%3A//www.googleapis.com/auth/devstorage.full_control&request_id=P19LiiylyTOmu62rzK5sjBPTKnUBvC0os5FqHRjb2_s&tc=362whkR3qA9pQ-BwPLq55AN7AkaN4LnQAH_vsvUHACg&cc=j02MY4XvpbxDbLudZyau_DA7Ksl3W8xbgnnb9d_fONg>https://code.earthengine.google.com/client-auth?scopes=https%3A//www.googleapis.com/auth/earthengine%20https%3A//www.googleapis.com/auth/devstorage.full_control&request_id=P19LiiylyTOmu62rzK5sjBPTKnUBvC0os5FqHRjb2_s&tc=362whkR3qA9pQ-BwPLq55AN7AkaN4LnQAH_vsvUHACg&cc=j02MY4XvpbxDbLudZyau_DA7Ksl3W8xbgnnb9d_fONg</a></p>\n",
       "        <p>The authorization workflow will generate a code, which you should paste in the box below.</p>\n",
       "        "
      ],
      "text/plain": [
       "<IPython.core.display.HTML object>"
      ]
     },
     "metadata": {},
     "output_type": "display_data"
    },
    {
     "name": "stdout",
     "output_type": "stream",
     "text": [
      "Enter verification code: 4/1AfJohXnBBveDo69GQ7j8A2ENhzv2RcXiiMwaX8J85h_1JMNaQlx2jMnHHJY\n",
      "\n",
      "Successfully saved authorization token.\n"
     ]
    }
   ],
   "source": [
    "import ee\n",
    "import geemap\n",
    "import os\n",
    "import getpass\n",
    "ee.Authenticate()\n",
    "ee.Initialize()"
   ]
  },
  {
   "cell_type": "markdown",
   "id": "f34b4607",
   "metadata": {},
   "source": [
    "Set the path"
   ]
  },
  {
   "cell_type": "code",
   "execution_count": 169,
   "id": "f583f499",
   "metadata": {},
   "outputs": [],
   "source": [
    "username = getpass.getuser()\n",
    "if username == \"WB495141\":\n",
    "    dir_output = 'OneDrive - WBG/poverty/somalia/input/ASI'"
   ]
  },
  {
   "cell_type": "code",
   "execution_count": 170,
   "id": "69c62e44",
   "metadata": {},
   "outputs": [],
   "source": [
    "region = ee.Geometry.BBox(40.99432, -1.664914, 51.41303, 11.9852)"
   ]
  },
  {
   "cell_type": "code",
   "execution_count": 171,
   "id": "739bb6db",
   "metadata": {},
   "outputs": [],
   "source": [
    "collection = (\n",
    "    ee.ImageCollection(\n",
    "    \"projects/UNFAO/ASIS/ASI_D\"\n",
    ").filterBounds(region).filterDate('2017-01-01','2022-12-31').filter(ee.Filter.listContains(\"system:band_names\", \"ASI_D\"))\n",
    ")"
   ]
  },
  {
   "cell_type": "code",
   "execution_count": 154,
   "id": "cbfb413e",
   "metadata": {},
   "outputs": [],
   "source": [
    "out_dir = os.path.join(os.path.expanduser('~'), dir_output)"
   ]
  },
  {
   "cell_type": "code",
   "execution_count": 155,
   "id": "c37e72fd",
   "metadata": {},
   "outputs": [
    {
     "name": "stdout",
     "output_type": "stream",
     "text": [
      "['ASI_D_2022-01_S1_C', 'ASI_D_2022-01_S1_P', 'ASI_D_2022-01_S2_C', 'ASI_D_2022-01_S2_P', 'ASI_D_2022-02_S1_P', 'ASI_D_2022-02_S2_P', 'ASI_D_2022-03_S1_C', 'ASI_D_2022-03_S1_P', 'ASI_D_2022-03_S2_C', 'ASI_D_2022-03_S2_P']\n"
     ]
    }
   ],
   "source": [
    "print(collection.aggregate_array('system:index').getInfo())"
   ]
  },
  {
   "cell_type": "code",
   "execution_count": 157,
   "id": "546e7616",
   "metadata": {},
   "outputs": [
    {
     "name": "stdout",
     "output_type": "stream",
     "text": [
      "Total number of images: 10\n",
      "\n",
      "Exporting 1/10: C:\\Users\\WB495141\\OneDrive - WBG/poverty/somalia/input/ASI\\ASI_D_2022-01_S1_C.tif\n",
      "Generating URL ...\n",
      "Downloading data from https://earthengine.googleapis.com/v1alpha/projects/earthengine-legacy/thumbnails/8e4728d7711cc29bf848547509d751fe-cbb088c17211260607819c9ddaa8bf6e:getPixels\n",
      "Please wait ...\n",
      "Data downloaded to C:\\Users\\WB495141\\OneDrive - WBG\\poverty\\somalia\\input\\ASI\\ASI_D_2022-01_S1_C.tif\n",
      "\n",
      "\n",
      "Exporting 2/10: C:\\Users\\WB495141\\OneDrive - WBG/poverty/somalia/input/ASI\\ASI_D_2022-01_S1_P.tif\n",
      "Generating URL ...\n",
      "Downloading data from https://earthengine.googleapis.com/v1alpha/projects/earthengine-legacy/thumbnails/f2ec9e3a414a7a727cc4d500c6de4db4-6cf6da3ac598227d33c698709fad8584:getPixels\n",
      "Please wait ...\n",
      "Data downloaded to C:\\Users\\WB495141\\OneDrive - WBG\\poverty\\somalia\\input\\ASI\\ASI_D_2022-01_S1_P.tif\n",
      "\n",
      "\n",
      "Exporting 3/10: C:\\Users\\WB495141\\OneDrive - WBG/poverty/somalia/input/ASI\\ASI_D_2022-01_S2_C.tif\n",
      "Generating URL ...\n",
      "Downloading data from https://earthengine.googleapis.com/v1alpha/projects/earthengine-legacy/thumbnails/83b503c50a9eaa83fa7060a086bf3744-97cefa38b847cf820e2b2ad6fe154518:getPixels\n",
      "Please wait ...\n",
      "Data downloaded to C:\\Users\\WB495141\\OneDrive - WBG\\poverty\\somalia\\input\\ASI\\ASI_D_2022-01_S2_C.tif\n",
      "\n",
      "\n",
      "Exporting 4/10: C:\\Users\\WB495141\\OneDrive - WBG/poverty/somalia/input/ASI\\ASI_D_2022-01_S2_P.tif\n",
      "Generating URL ...\n",
      "Downloading data from https://earthengine.googleapis.com/v1alpha/projects/earthengine-legacy/thumbnails/b92bc4ce81656ea3d30180c9dd9a0183-e1478c537d18e5d6b1148539dd5e78a6:getPixels\n",
      "Please wait ...\n",
      "Data downloaded to C:\\Users\\WB495141\\OneDrive - WBG\\poverty\\somalia\\input\\ASI\\ASI_D_2022-01_S2_P.tif\n",
      "\n",
      "\n",
      "Exporting 5/10: C:\\Users\\WB495141\\OneDrive - WBG/poverty/somalia/input/ASI\\ASI_D_2022-02_S1_P.tif\n",
      "Generating URL ...\n",
      "Downloading data from https://earthengine.googleapis.com/v1alpha/projects/earthengine-legacy/thumbnails/619b8172704d33d4a3fa5100c6229c6d-bc0305b62bc7893b573177d2049c0a7e:getPixels\n",
      "Please wait ...\n",
      "Data downloaded to C:\\Users\\WB495141\\OneDrive - WBG\\poverty\\somalia\\input\\ASI\\ASI_D_2022-02_S1_P.tif\n",
      "\n",
      "\n",
      "Exporting 6/10: C:\\Users\\WB495141\\OneDrive - WBG/poverty/somalia/input/ASI\\ASI_D_2022-02_S2_P.tif\n",
      "Generating URL ...\n",
      "Downloading data from https://earthengine.googleapis.com/v1alpha/projects/earthengine-legacy/thumbnails/07b01be602361ce03ac12117fc0eb739-39b08da3bfa3dee25718ec8ac8100476:getPixels\n",
      "Please wait ...\n",
      "Data downloaded to C:\\Users\\WB495141\\OneDrive - WBG\\poverty\\somalia\\input\\ASI\\ASI_D_2022-02_S2_P.tif\n",
      "\n",
      "\n",
      "Exporting 7/10: C:\\Users\\WB495141\\OneDrive - WBG/poverty/somalia/input/ASI\\ASI_D_2022-03_S1_C.tif\n",
      "Generating URL ...\n",
      "Downloading data from https://earthengine.googleapis.com/v1alpha/projects/earthengine-legacy/thumbnails/8e6eb6fb0451b5866e47251329ad1a52-b2ee430d168b5ed027589aca4218b713:getPixels\n",
      "Please wait ...\n",
      "Data downloaded to C:\\Users\\WB495141\\OneDrive - WBG\\poverty\\somalia\\input\\ASI\\ASI_D_2022-03_S1_C.tif\n",
      "\n",
      "\n",
      "Exporting 8/10: C:\\Users\\WB495141\\OneDrive - WBG/poverty/somalia/input/ASI\\ASI_D_2022-03_S1_P.tif\n",
      "Generating URL ...\n",
      "Downloading data from https://earthengine.googleapis.com/v1alpha/projects/earthengine-legacy/thumbnails/0c3da129cd1adeecf983ff55967d7fc6-dd17196df9d0c28f54e2dc237c48a7ca:getPixels\n",
      "Please wait ...\n",
      "Data downloaded to C:\\Users\\WB495141\\OneDrive - WBG\\poverty\\somalia\\input\\ASI\\ASI_D_2022-03_S1_P.tif\n",
      "\n",
      "\n",
      "Exporting 9/10: C:\\Users\\WB495141\\OneDrive - WBG/poverty/somalia/input/ASI\\ASI_D_2022-03_S2_C.tif\n",
      "Generating URL ...\n",
      "Downloading data from https://earthengine.googleapis.com/v1alpha/projects/earthengine-legacy/thumbnails/62093e64f0af2c81917bb6972692a92a-d780e74cffd1c067a8385b539ee39f6e:getPixels\n",
      "Please wait ...\n",
      "Data downloaded to C:\\Users\\WB495141\\OneDrive - WBG\\poverty\\somalia\\input\\ASI\\ASI_D_2022-03_S2_C.tif\n",
      "\n",
      "\n",
      "Exporting 10/10: C:\\Users\\WB495141\\OneDrive - WBG/poverty/somalia/input/ASI\\ASI_D_2022-03_S2_P.tif\n",
      "Generating URL ...\n",
      "Downloading data from https://earthengine.googleapis.com/v1alpha/projects/earthengine-legacy/thumbnails/f5f39f4660d87d33f96e59018dab298b-ceef6ecfaed97d0e4a9b208210055c20:getPixels\n",
      "Please wait ...\n",
      "Data downloaded to C:\\Users\\WB495141\\OneDrive - WBG\\poverty\\somalia\\input\\ASI\\ASI_D_2022-03_S2_P.tif\n",
      "\n",
      "\n"
     ]
    }
   ],
   "source": [
    "geemap.ee_export_image_collection(collection, out_dir=out_dir, region = region)"
   ]
  }
 ],
 "metadata": {
  "kernelspec": {
   "display_name": "Python 3 (ipykernel)",
   "language": "python",
   "name": "python3"
  },
  "language_info": {
   "codemirror_mode": {
    "name": "ipython",
    "version": 3
   },
   "file_extension": ".py",
   "mimetype": "text/x-python",
   "name": "python",
   "nbconvert_exporter": "python",
   "pygments_lexer": "ipython3",
   "version": "3.9.7"
  }
 },
 "nbformat": 4,
 "nbformat_minor": 5
}
