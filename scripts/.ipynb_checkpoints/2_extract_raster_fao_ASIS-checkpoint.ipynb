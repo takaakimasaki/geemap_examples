{
 "cells": [
  {
   "cell_type": "markdown",
   "id": "915465c1",
   "metadata": {},
   "source": [
    "<a href=\"https://githubtocolab.com/gee-community/geemap/blob/master/examples/notebooks/12_zonal_statistics.ipynb\" target=\"_parent\"><img src=\"https://colab.research.google.com/assets/colab-badge.svg\" alt=\"Open in Colab\"/></a>\n",
    "\n",
    "Uncomment the following line to install [geemap](https://geemap.org) if needed."
   ]
  },
  {
   "cell_type": "code",
   "execution_count": 1,
   "id": "57df6109",
   "metadata": {},
   "outputs": [],
   "source": [
    "# !pip install geemap"
   ]
  },
  {
   "cell_type": "markdown",
   "id": "16a8bed0",
   "metadata": {},
   "source": [
    "Load libraries"
   ]
  },
  {
   "cell_type": "code",
   "execution_count": 1,
   "id": "dc8e26f5",
   "metadata": {
    "scrolled": false
   },
   "outputs": [
    {
     "name": "stderr",
     "output_type": "stream",
     "text": [
      "C:\\wbg\\Anaconda3\\lib\\site-packages\\pandas\\core\\computation\\expressions.py:21: UserWarning: Pandas requires version '2.8.0' or newer of 'numexpr' (version '2.7.3' currently installed).\n",
      "  from pandas.core.computation.check import NUMEXPR_INSTALLED\n",
      "C:\\wbg\\Anaconda3\\lib\\site-packages\\pandas\\core\\arrays\\masked.py:62: UserWarning: Pandas requires version '1.3.4' or newer of 'bottleneck' (version '1.3.2' currently installed).\n",
      "  from pandas.core import (\n"
     ]
    }
   ],
   "source": [
    "import ee\n",
    "import geemap\n",
    "import os\n",
    "import getpass\n",
    "ee.Authenticate()\n",
    "ee.Initialize()"
   ]
  },
  {
   "cell_type": "markdown",
   "id": "f34b4607",
   "metadata": {},
   "source": [
    "Set the path"
   ]
  },
  {
   "cell_type": "code",
   "execution_count": 169,
   "id": "f583f499",
   "metadata": {},
   "outputs": [],
   "source": [
    "username = getpass.getuser()\n",
    "if username == \"WB495141\":\n",
    "    dir_output = 'OneDrive - WBG/poverty/somalia/input/ASI'"
   ]
  },
  {
   "cell_type": "markdown",
   "id": "74552ac6",
   "metadata": {},
   "source": [
    "Define the extent of region for which ASI data will be extracted."
   ]
  },
  {
   "cell_type": "code",
   "execution_count": 170,
   "id": "69c62e44",
   "metadata": {},
   "outputs": [],
   "source": [
    "region = ee.Geometry.BBox(40.99432, -1.664914, 51.41303, 11.9852)"
   ]
  },
  {
   "cell_type": "markdown",
   "id": "60d50f11",
   "metadata": {},
   "source": [
    "Define ImageCollection ID and time period. To access ASIS through GEE, you need to get authorization from FAO. See more details [here](https://www.fao.org/giews/earthobservation/access.jsp?lang=en)."
   ]
  },
  {
   "cell_type": "code",
   "execution_count": 171,
   "id": "739bb6db",
   "metadata": {},
   "outputs": [],
   "source": [
    "collection = (\n",
    "    ee.ImageCollection(\n",
    "    \"projects/UNFAO/ASIS/ASI_D\"\n",
    ").filterBounds(region).filterDate('2017-01-01','2022-12-31').filter(ee.Filter.listContains(\"system:band_names\", \"ASI_D\"))\n",
    ")"
   ]
  },
  {
   "cell_type": "markdown",
   "id": "4ab546e1",
   "metadata": {},
   "source": [
    "Set the path to which extracted data will be saved."
   ]
  },
  {
   "cell_type": "code",
   "execution_count": 154,
   "id": "cbfb413e",
   "metadata": {},
   "outputs": [],
   "source": [
    "out_dir = os.path.join(os.path.expanduser('~'), dir_output)"
   ]
  },
  {
   "cell_type": "markdown",
   "id": "37357d77",
   "metadata": {},
   "source": [
    "Extract images"
   ]
  },
  {
   "cell_type": "code",
   "execution_count": 2,
   "id": "546e7616",
   "metadata": {},
   "outputs": [],
   "source": [
    "geemap.ee_export_image_collection(collection, out_dir=out_dir, region = region)"
   ]
  }
 ],
 "metadata": {
  "kernelspec": {
   "display_name": "Python 3 (ipykernel)",
   "language": "python",
   "name": "python3"
  },
  "language_info": {
   "codemirror_mode": {
    "name": "ipython",
    "version": 3
   },
   "file_extension": ".py",
   "mimetype": "text/x-python",
   "name": "python",
   "nbconvert_exporter": "python",
   "pygments_lexer": "ipython3",
   "version": "3.9.7"
  }
 },
 "nbformat": 4,
 "nbformat_minor": 5
}
