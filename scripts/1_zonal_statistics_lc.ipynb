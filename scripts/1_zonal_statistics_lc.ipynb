{
 "cells": [
  {
   "cell_type": "markdown",
   "id": "915465c1",
   "metadata": {},
   "source": [
    "<a href=\"https://githubtocolab.com/gee-community/geemap/blob/master/examples/notebooks/12_zonal_statistics.ipynb\" target=\"_parent\"><img src=\"https://colab.research.google.com/assets/colab-badge.svg\" alt=\"Open in Colab\"/></a>\n",
    "\n",
    "Uncomment the following line to install [geemap](https://geemap.org) if needed."
   ]
  },
  {
   "cell_type": "code",
   "execution_count": 1,
   "id": "57df6109",
   "metadata": {},
   "outputs": [],
   "source": [
    "# !pip install geemap"
   ]
  },
  {
   "cell_type": "markdown",
   "id": "16a8bed0",
   "metadata": {},
   "source": [
    "Load libraries"
   ]
  },
  {
   "cell_type": "code",
   "execution_count": 3,
   "id": "dc8e26f5",
   "metadata": {},
   "outputs": [],
   "source": [
    "import ee\n",
    "import geemap\n",
    "import os\n",
    "ee.Initialize()"
   ]
  },
  {
   "cell_type": "markdown",
   "id": "339c4639",
   "metadata": {},
   "source": [
    "Add layers"
   ]
  },
  {
   "cell_type": "code",
   "execution_count": 35,
   "id": "6da6579b",
   "metadata": {},
   "outputs": [],
   "source": [
    "##added new layers\n",
    "poly = ee.FeatureCollection('projects/ee-tmasaki040685/assets/eth-admin1')\n",
    "esri = ee.ImageCollection(\n",
    "    \"projects/sat-io/open-datasets/landcover/ESRI_Global-LULC_10m_TS\"\n",
    ").filterDate('2017-01-01','2017-12-31').mosaic().clip(poly)\n",
    "##.filterDate() specifies date\n",
    "##.mosaic() turn it into image\n",
    "##.clip() masks image to the boundary of poly\n",
    "\n",
    "\n",
    "esri_vis = {\n",
    "    'min': 1,\n",
    "    'max': 11,\n",
    "    'palette': [\n",
    "        \"#1A5BAB\",\n",
    "        \"#358221\",\n",
    "        \"#000000\",\n",
    "        \"#87D19E\",\n",
    "        \"#FFDB5C\",\n",
    "        \"#000000\",\n",
    "        \"#ED022A\",\n",
    "        \"#EDE9E4\",\n",
    "        \"#F2FAFF\",\n",
    "        \"#C8C8C8\",\n",
    "        \"#C6AD8D\"\n",
    "    ],\n",
    "}\n",
    "\n",
    "legend_dict = {\n",
    "    '1 Water': '#1A5BAB',\n",
    "    '2 Trees': '#358221',\n",
    "    '4 Flooded Vegetation': '#87D19E5',\n",
    "    '5 Crops': '#FFDB5C',\n",
    "    '7 Built area': '#ED022A',\n",
    "    '8 Bare ground': '#EDE9E4',\n",
    "    '9 Snow/ice': '#F2FAFF',\n",
    "    '10 Clouds': '#C8C8C8',\n",
    "    '11 Rangeland': '#C6AD8D',\n",
    "}"
   ]
  },
  {
   "cell_type": "markdown",
   "id": "a47ff242",
   "metadata": {},
   "source": [
    "Generate map"
   ]
  },
  {
   "cell_type": "code",
   "execution_count": 33,
   "id": "c6216c51",
   "metadata": {},
   "outputs": [
    {
     "data": {
      "application/vnd.jupyter.widget-view+json": {
       "model_id": "e70fd1ef2c1d49eb9ded399958ea3d71",
       "version_major": 2,
       "version_minor": 0
      },
      "text/plain": [
       "Map(center=[20, 0], controls=(WidgetControl(options=['position', 'transparent_bg'], widget=HBox(children=(Togg…"
      ]
     },
     "metadata": {},
     "output_type": "display_data"
    }
   ],
   "source": [
    "Map = geemap.Map()\n",
    "Map\n"
   ]
  },
  {
   "cell_type": "code",
   "execution_count": 32,
   "id": "c8d2dde4",
   "metadata": {},
   "outputs": [],
   "source": [
    "region = ee.Geometry.BBox(32.999840, 3.402422, 32.999840, 14.963733)\n",
    "Map.addLayer(esri, esri_vis, \"ESRI Land Cover\")\n",
    "Map.add_legend(legend_title=\"ESRI Land Cover Classification\", legend_dict=legend_dict)\n",
    "Map.centerObject(region)"
   ]
  },
  {
   "cell_type": "markdown",
   "id": "f01c1bee",
   "metadata": {},
   "source": [
    "Export image (but this does not run because the extent of region for which image is being analyzed is too large...). "
   ]
  },
  {
   "cell_type": "code",
   "execution_count": 39,
   "id": "87315ede",
   "metadata": {},
   "outputs": [
    {
     "name": "stdout",
     "output_type": "stream",
     "text": [
      "Generating URL ...\n",
      "An error occurred while downloading.\n",
      "Total request size (530395488 bytes) must be less than or equal to 50331648 bytes.\n"
     ]
    }
   ],
   "source": [
    "out_dir = os.path.join(os.path.expanduser('~'), 'Downloads')\n",
    "filename = os.path.join(out_dir, 'esri_lulc10.tif')\n",
    "\n",
    "feature = Map.draw_last_feature\n",
    "\n",
    "if feature is None:\n",
    "    geom = ee.Geometry.Polygon(\n",
    "        [\n",
    "            [\n",
    "                [32.999840, 3.402422],\n",
    "                [32.999840, 14.963733],\n",
    "                [47.990990, 3.402422],\n",
    "                [47.990990, 14.963733],\n",
    "                [32.999840, 3.402422],\n",
    "            ]\n",
    "        ]\n",
    "    )\n",
    "    feature = ee.Feature(geom, {})\n",
    "\n",
    "roi = feature.geometry()\n",
    "\n",
    "geemap.ee_export_image(\n",
    "    esri, filename=filename, scale=90, region=roi, file_per_band=False\n",
    ")"
   ]
  },
  {
   "cell_type": "code",
   "execution_count": 7,
   "id": "b0e9354e",
   "metadata": {},
   "outputs": [],
   "source": [
    "Map.addLayer(poly, {}, 'eth')"
   ]
  },
  {
   "cell_type": "markdown",
   "id": "c57f7d64",
   "metadata": {},
   "source": [
    "Generate a new layer coded 1 if cropland"
   ]
  },
  {
   "cell_type": "code",
   "execution_count": 40,
   "id": "709ba931",
   "metadata": {},
   "outputs": [],
   "source": [
    "esri_crop = esri.eq(5).selfMask().rename('binary')"
   ]
  },
  {
   "cell_type": "code",
   "execution_count": 41,
   "id": "c5088ce3",
   "metadata": {},
   "outputs": [],
   "source": [
    "region = ee.Geometry.BBox(32.999840, 3.402422, 32.999840, 14.963733)\n",
    "\n",
    "esri_crop_vis = {\n",
    "    'min': 0,\n",
    "    'max': 1,\n",
    "    'palette': [\n",
    "        \"#000000\",\n",
    "        \"#FFDB5C\"\n",
    "    ],\n",
    "}\n",
    "\n",
    "Map.addLayer(esri_crop, esri_crop_vis, \"ESRI Land Cover\")\n",
    "Map.add_legend(legend_title=\"ESRI Land Cover Classification\", legend_dict=legend_dict)\n",
    "Map.centerObject(region)"
   ]
  },
  {
   "cell_type": "markdown",
   "id": "f2531a9e",
   "metadata": {},
   "source": [
    "Compute zonal statistics"
   ]
  },
  {
   "cell_type": "code",
   "execution_count": 48,
   "id": "ea6847dc",
   "metadata": {},
   "outputs": [
    {
     "name": "stdout",
     "output_type": "stream",
     "text": [
      "Computing statistics ...\n",
      "Generating URL ...\n",
      "Downloading data from https://earthengine.googleapis.com/v1alpha/projects/earthengine-legacy/tables/341a4a19da76ba8771bad03c0ef0110a-02de9afdbb99b32eac36e93b4b433527:getFeatures\n",
      "Please wait ...\n",
      "Data downloaded to C:\\Users\\WB495141\\Downloads\\esri_lulc10_5.csv\n"
     ]
    }
   ],
   "source": [
    "out_dir = os.path.join(os.path.expanduser('~'), 'Downloads')\n",
    "out_esri_lulc10_stats = os.path.join(out_dir, 'esri_lulc10_5.csv')\n",
    "\n",
    "if not os.path.exists(out_dir):\n",
    "    os.makedirs(out_dir)\n",
    "    \n",
    "# Allowed output formats: csv, shp, json, kml, kmz\n",
    "# Allowed statistics type: MEAN, MAXIMUM, MINIMUM, MEDIAN, STD, MIN_MAX, VARIANCE, SUM\n",
    "geemap.zonal_statistics(esri_crop, poly, out_esri_lulc10_stats, statistics_type='COUNT', scale=100)"
   ]
  },
  {
   "cell_type": "code",
   "execution_count": 49,
   "id": "0831d6cb",
   "metadata": {},
   "outputs": [
    {
     "name": "stdout",
     "output_type": "stream",
     "text": [
      "Computing statistics ...\n",
      "Generating URL ...\n",
      "Downloading data from https://earthengine.googleapis.com/v1alpha/projects/earthengine-legacy/tables/59a4341952c72e9b5589d6bde4a48f33-15acaa24baa90bd432656985b8f29dc4:getFeatures\n",
      "Please wait ...\n",
      "Data downloaded to C:\\Users\\WB495141\\Downloads\\esri_lulc10_all.csv\n"
     ]
    }
   ],
   "source": [
    "out_dir = os.path.join(os.path.expanduser('~'), 'Downloads')\n",
    "out_esri_lulc10_stats = os.path.join(out_dir, 'esri_lulc10_all.csv')\n",
    "\n",
    "if not os.path.exists(out_dir):\n",
    "    os.makedirs(out_dir)\n",
    "    \n",
    "# Allowed output formats: csv, shp, json, kml, kmz\n",
    "# Allowed statistics type: MEAN, MAXIMUM, MINIMUM, MEDIAN, STD, MIN_MAX, VARIANCE, SUM\n",
    "geemap.zonal_statistics(esri, poly, out_esri_lulc10_stats, statistics_type='COUNT', scale=100)"
   ]
  }
 ],
 "metadata": {
  "kernelspec": {
   "display_name": "Python 3 (ipykernel)",
   "language": "python",
   "name": "python3"
  },
  "language_info": {
   "codemirror_mode": {
    "name": "ipython",
    "version": 3
   },
   "file_extension": ".py",
   "mimetype": "text/x-python",
   "name": "python",
   "nbconvert_exporter": "python",
   "pygments_lexer": "ipython3",
   "version": "3.9.7"
  }
 },
 "nbformat": 4,
 "nbformat_minor": 5
}
